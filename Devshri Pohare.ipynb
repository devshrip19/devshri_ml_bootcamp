{
 "cells": [
  {
   "cell_type": "code",
   "execution_count": 93,
   "metadata": {},
   "outputs": [],
   "source": [
    "import pandas as pd\n",
    "import numpy as np\n",
    "import matplotlib.pyplot as plt\n",
    "from sklearn import datasets"
   ]
  },
  {
   "cell_type": "markdown",
   "metadata": {},
   "source": [
    "# Importing make_moons Dataset"
   ]
  },
  {
   "cell_type": "code",
   "execution_count": 94,
   "metadata": {},
   "outputs": [],
   "source": [
    "data = datasets.make_moons(100)"
   ]
  },
  {
   "cell_type": "code",
   "execution_count": 95,
   "metadata": {},
   "outputs": [
    {
     "data": {
      "text/plain": [
       "(array([[-9.97945393e-01,  6.40702200e-02],\n",
       "        [ 1.80141362e+00, -9.81105305e-02],\n",
       "        [ 9.49055747e-01,  3.15108218e-01],\n",
       "        [ 3.45365054e-01,  9.38468422e-01],\n",
       "        [ 5.18392568e-01,  8.55142763e-01],\n",
       "        [ 1.83808810e+00, -4.55349012e-02],\n",
       "        [ 1.94905575e+00,  1.84891782e-01],\n",
       "        [ 1.98586378e-01, -9.81105305e-02],\n",
       "        [ 1.87131870e+00,  9.28244800e-03],\n",
       "        [ 1.46253829e+00, -3.86599306e-01],\n",
       "        [ 1.62348980e+00, -2.81831482e-01],\n",
       "        [-5.18392568e-01,  8.55142763e-01],\n",
       "        [ 1.03205158e+00, -4.99486216e-01],\n",
       "        [-4.62538290e-01,  8.86599306e-01],\n",
       "        [ 3.27051370e-02,  2.46345416e-01],\n",
       "        [ 9.67294863e-01,  2.53654584e-01],\n",
       "        [-7.61445958e-01,  6.48228395e-01],\n",
       "        [-9.60230259e-02,  9.95379113e-01],\n",
       "        [ 9.81559157e-01,  1.91158629e-01],\n",
       "        [ 4.04783343e-01,  9.14412623e-01],\n",
       "        [ 2.22520934e-01,  9.74927912e-01],\n",
       "        [ 1.67230089e+00, -2.40277997e-01],\n",
       "        [ 8.40400105e-01, -4.87181783e-01],\n",
       "        [-4.04783343e-01,  9.14412623e-01],\n",
       "        [ 1.28452759e+00, -4.58667853e-01],\n",
       "        [ 5.37461710e-01, -3.86599306e-01],\n",
       "        [ 8.20998618e-03,  3.72122838e-01],\n",
       "        [-9.91790014e-01,  1.27877162e-01],\n",
       "        [ 2.05460725e-03,  4.35929780e-01],\n",
       "        [ 8.38088105e-01,  5.45534901e-01],\n",
       "        [ 9.03976974e-01, -4.95379113e-01],\n",
       "        [-3.45365054e-01,  9.38468422e-01],\n",
       "        [-9.81559157e-01,  1.91158629e-01],\n",
       "        [ 1.59599895e-01,  9.87181783e-01],\n",
       "        [ 3.27699110e-01, -2.40277997e-01],\n",
       "        [-8.38088105e-01,  5.45534901e-01],\n",
       "        [ 1.57211666e+00, -3.20172255e-01],\n",
       "        [ 1.99794539e+00,  4.35929780e-01],\n",
       "        [ 1.22252093e+00, -4.74927912e-01],\n",
       "        [ 1.00000000e+00,  0.00000000e+00],\n",
       "        [ 1.09602303e+00, -4.95379113e-01],\n",
       "        [ 9.97945393e-01,  6.40702200e-02],\n",
       "        [ 1.28681296e-01,  9.28244800e-03],\n",
       "        [ 4.27883340e-01, -3.20172255e-01],\n",
       "        [ 6.72300890e-01,  7.40277997e-01],\n",
       "        [ 2.84527587e-01,  9.58667853e-01],\n",
       "        [ 9.60230259e-02,  9.95379113e-01],\n",
       "        [ 7.77479066e-01, -4.74927912e-01],\n",
       "        [ 7.18349350e-01,  6.95682551e-01],\n",
       "        [ 9.67948422e-01, -4.99486216e-01],\n",
       "        [ 5.09442530e-02,  1.84891782e-01],\n",
       "        [ 7.61445958e-01,  6.48228395e-01],\n",
       "        [ 1.92691676e+00,  1.24732995e-01],\n",
       "        [ 1.98155916e+00,  3.08841371e-01],\n",
       "        [ 3.20515776e-02,  9.99486216e-01],\n",
       "        [-9.67294863e-01,  2.53654584e-01],\n",
       "        [ 9.00968868e-01,  4.33883739e-01],\n",
       "        [-3.20515776e-02,  9.99486216e-01],\n",
       "        [ 1.76144596e+00, -1.48228395e-01],\n",
       "        [-6.23489802e-01,  7.81831482e-01],\n",
       "        [ 2.38554042e-01, -1.48228395e-01],\n",
       "        [ 0.00000000e+00,  5.00000000e-01],\n",
       "        [-7.18349350e-01,  6.95682551e-01],\n",
       "        [-6.72300890e-01,  7.40277997e-01],\n",
       "        [ 2.00000000e+00,  5.00000000e-01],\n",
       "        [ 7.30832427e-02,  1.24732995e-01],\n",
       "        [ 1.51839257e+00, -3.55142763e-01],\n",
       "        [ 1.71834935e+00, -1.95682551e-01],\n",
       "        [-9.26916757e-01,  3.75267005e-01],\n",
       "        [-9.00968868e-01,  4.33883739e-01],\n",
       "        [ 1.96729486e+00,  2.46345416e-01],\n",
       "        [ 1.34536505e+00, -4.38468422e-01],\n",
       "        [-8.01413622e-01,  5.98110530e-01],\n",
       "        [-5.72116660e-01,  8.20172255e-01],\n",
       "        [ 1.99179001e+00,  3.72122838e-01],\n",
       "        [ 7.15472413e-01, -4.58667853e-01],\n",
       "        [ 4.81607432e-01, -3.55142763e-01],\n",
       "        [ 3.76510198e-01, -2.81831482e-01],\n",
       "        [-2.84527587e-01,  9.58667853e-01],\n",
       "        [-2.22520934e-01,  9.74927912e-01],\n",
       "        [ 2.81650650e-01, -1.95682551e-01],\n",
       "        [ 6.54634946e-01, -4.38468422e-01],\n",
       "        [-9.49055747e-01,  3.15108218e-01],\n",
       "        [ 1.40478334e+00, -4.14412623e-01],\n",
       "        [ 1.90096887e+00,  6.61162609e-02],\n",
       "        [ 8.71318704e-01,  4.90717552e-01],\n",
       "        [ 9.91790014e-01,  1.27877162e-01],\n",
       "        [-8.71318704e-01,  4.90717552e-01],\n",
       "        [ 8.01413622e-01,  5.98110530e-01],\n",
       "        [ 1.84408430e-02,  3.08841371e-01],\n",
       "        [-1.59599895e-01,  9.87181783e-01],\n",
       "        [ 9.90311321e-02,  6.61162609e-02],\n",
       "        [ 5.72116660e-01,  8.20172255e-01],\n",
       "        [ 4.62538290e-01,  8.86599306e-01],\n",
       "        [ 1.61911895e-01, -4.55349012e-02],\n",
       "        [ 5.95216657e-01, -4.14412623e-01],\n",
       "        [-1.00000000e+00,  1.22464680e-16],\n",
       "        [ 9.26916757e-01,  3.75267005e-01],\n",
       "        [ 1.15959990e+00, -4.87181783e-01],\n",
       "        [ 6.23489802e-01,  7.81831482e-01]]),\n",
       " array([0, 1, 0, 0, 0, 1, 1, 1, 1, 1, 1, 0, 1, 0, 1, 0, 0, 0, 0, 0, 0, 1,\n",
       "        1, 0, 1, 1, 1, 0, 1, 0, 1, 0, 0, 0, 1, 0, 1, 1, 1, 0, 1, 0, 1, 1,\n",
       "        0, 0, 0, 1, 0, 1, 1, 0, 1, 1, 0, 0, 0, 0, 1, 0, 1, 1, 0, 0, 1, 1,\n",
       "        1, 1, 0, 0, 1, 1, 0, 0, 1, 1, 1, 1, 0, 0, 1, 1, 0, 1, 1, 0, 0, 0,\n",
       "        0, 1, 0, 1, 0, 0, 1, 1, 0, 0, 1, 0], dtype=int64))"
      ]
     },
     "execution_count": 95,
     "metadata": {},
     "output_type": "execute_result"
    }
   ],
   "source": [
    "data"
   ]
  },
  {
   "cell_type": "code",
   "execution_count": 96,
   "metadata": {},
   "outputs": [],
   "source": [
    "inputData = pd.DataFrame(data = data[0])"
   ]
  },
  {
   "cell_type": "code",
   "execution_count": 97,
   "metadata": {},
   "outputs": [
    {
     "data": {
      "text/html": [
       "<div>\n",
       "<style scoped>\n",
       "    .dataframe tbody tr th:only-of-type {\n",
       "        vertical-align: middle;\n",
       "    }\n",
       "\n",
       "    .dataframe tbody tr th {\n",
       "        vertical-align: top;\n",
       "    }\n",
       "\n",
       "    .dataframe thead th {\n",
       "        text-align: right;\n",
       "    }\n",
       "</style>\n",
       "<table border=\"1\" class=\"dataframe\">\n",
       "  <thead>\n",
       "    <tr style=\"text-align: right;\">\n",
       "      <th></th>\n",
       "      <th>0</th>\n",
       "      <th>1</th>\n",
       "    </tr>\n",
       "  </thead>\n",
       "  <tbody>\n",
       "    <tr>\n",
       "      <th>0</th>\n",
       "      <td>-0.997945</td>\n",
       "      <td>0.064070</td>\n",
       "    </tr>\n",
       "    <tr>\n",
       "      <th>1</th>\n",
       "      <td>1.801414</td>\n",
       "      <td>-0.098111</td>\n",
       "    </tr>\n",
       "    <tr>\n",
       "      <th>2</th>\n",
       "      <td>0.949056</td>\n",
       "      <td>0.315108</td>\n",
       "    </tr>\n",
       "    <tr>\n",
       "      <th>3</th>\n",
       "      <td>0.345365</td>\n",
       "      <td>0.938468</td>\n",
       "    </tr>\n",
       "    <tr>\n",
       "      <th>4</th>\n",
       "      <td>0.518393</td>\n",
       "      <td>0.855143</td>\n",
       "    </tr>\n",
       "  </tbody>\n",
       "</table>\n",
       "</div>"
      ],
      "text/plain": [
       "          0         1\n",
       "0 -0.997945  0.064070\n",
       "1  1.801414 -0.098111\n",
       "2  0.949056  0.315108\n",
       "3  0.345365  0.938468\n",
       "4  0.518393  0.855143"
      ]
     },
     "execution_count": 97,
     "metadata": {},
     "output_type": "execute_result"
    }
   ],
   "source": [
    "inputData.head()"
   ]
  },
  {
   "cell_type": "code",
   "execution_count": 98,
   "metadata": {},
   "outputs": [
    {
     "data": {
      "text/plain": [
       "<matplotlib.collections.PathCollection at 0x2a8904a6548>"
      ]
     },
     "execution_count": 98,
     "metadata": {},
     "output_type": "execute_result"
    },
    {
     "data": {
      "image/png": "[encoded data removed]",
      "text/plain": [
       "<Figure size 432x288 with 1 Axes>"
      ]
     },
     "metadata": {
      "needs_background": "light"
     },
     "output_type": "display_data"
    }
   ],
   "source": [
    "plt.scatter(inputData[0],inputData[1])"
   ]
  },
  {
   "cell_type": "code",
   "execution_count": 99,
   "metadata": {},
   "outputs": [
    {
     "data": {
      "text/html": [
       "<div>\n",
       "<style scoped>\n",
       "    .dataframe tbody tr th:only-of-type {\n",
       "        vertical-align: middle;\n",
       "    }\n",
       "\n",
       "    .dataframe tbody tr th {\n",
       "        vertical-align: top;\n",
       "    }\n",
       "\n",
       "    .dataframe thead th {\n",
       "        text-align: right;\n",
       "    }\n",
       "</style>\n",
       "<table border=\"1\" class=\"dataframe\">\n",
       "  <thead>\n",
       "    <tr style=\"text-align: right;\">\n",
       "      <th></th>\n",
       "      <th>0</th>\n",
       "    </tr>\n",
       "  </thead>\n",
       "  <tbody>\n",
       "    <tr>\n",
       "      <th>0</th>\n",
       "      <td>0</td>\n",
       "    </tr>\n",
       "    <tr>\n",
       "      <th>1</th>\n",
       "      <td>1</td>\n",
       "    </tr>\n",
       "    <tr>\n",
       "      <th>2</th>\n",
       "      <td>0</td>\n",
       "    </tr>\n",
       "    <tr>\n",
       "      <th>3</th>\n",
       "      <td>0</td>\n",
       "    </tr>\n",
       "    <tr>\n",
       "      <th>4</th>\n",
       "      <td>0</td>\n",
       "    </tr>\n",
       "  </tbody>\n",
       "</table>\n",
       "</div>"
      ],
      "text/plain": [
       "   0\n",
       "0  0\n",
       "1  1\n",
       "2  0\n",
       "3  0\n",
       "4  0"
      ]
     },
     "execution_count": 99,
     "metadata": {},
     "output_type": "execute_result"
    }
   ],
   "source": [
    "outputData = pd.DataFrame(data = data[1])\n",
    "outputData.head()"
   ]
  },
  {
   "cell_type": "code",
   "execution_count": 100,
   "metadata": {},
   "outputs": [
    {
     "data": {
      "text/plain": [
       "<matplotlib.collections.PathCollection at 0x2a8904cc288>"
      ]
     },
     "execution_count": 100,
     "metadata": {},
     "output_type": "execute_result"
    },
    {
     "data": {
      "image/png": "[encoded data removed]",
      "text/plain": [
       "<Figure size 432x288 with 1 Axes>"
      ]
     },
     "metadata": {
      "needs_background": "light"
     },
     "output_type": "display_data"
    }
   ],
   "source": [
    "plt.scatter(inputData[0],inputData[1],c=np.squeeze(outputData))"
   ]
  },
  {
   "cell_type": "code",
   "execution_count": null,
   "metadata": {},
   "outputs": [],
   "source": []
  },
  {
   "cell_type": "code",
   "execution_count": 108,
   "metadata": {},
   "outputs": [
    {
     "data": {
      "text/plain": [
       "KMeans(algorithm='auto', copy_x=True, init='k-means++', max_iter=300,\n",
       "       n_clusters=5, n_init=10, n_jobs=None, precompute_distances='auto',\n",
       "       random_state=None, tol=0.0001, verbose=0)"
      ]
     },
     "execution_count": 108,
     "metadata": {},
     "output_type": "execute_result"
    }
   ],
   "source": [
    "from sklearn.cluster import KMeans\n",
    "model = KMeans(n_clusters= 5)\n",
    "model.fit(inputData)\n"
   ]
  },
  {
   "cell_type": "code",
   "execution_count": 109,
   "metadata": {},
   "outputs": [
    {
     "data": {
      "text/plain": [
       "array([1, 0, 3, 4, 3, 0, 0, 2, 0, 0, 0, 4, 2, 4, 4, 3, 1, 4, 3, 4, 4, 0,\n",
       "       2, 4, 0, 2, 4, 1, 4, 3, 2, 4, 1, 4, 2, 1, 0, 0, 2, 2, 2, 2, 2, 2,\n",
       "       3, 4, 4, 2, 3, 2, 4, 3, 0, 0, 4, 1, 3, 4, 0, 1, 2, 4, 1, 1, 0, 4,\n",
       "       0, 0, 1, 1, 0, 0, 1, 1, 0, 2, 2, 2, 4, 4, 2, 2, 1, 0, 0, 3, 3, 1,\n",
       "       3, 4, 4, 2, 3, 3, 2, 2, 1, 3, 2, 3])"
      ]
     },
     "execution_count": 109,
     "metadata": {},
     "output_type": "execute_result"
    }
   ],
   "source": [
    "model.labels_"
   ]
  },
  {
   "cell_type": "code",
   "execution_count": 110,
   "metadata": {},
   "outputs": [],
   "source": [
    "from sklearn import metrics"
   ]
  },
  {
   "cell_type": "code",
   "execution_count": 111,
   "metadata": {},
   "outputs": [
    {
     "data": {
      "text/plain": [
       "0.46229243466972314"
      ]
     },
     "execution_count": 111,
     "metadata": {},
     "output_type": "execute_result"
    }
   ],
   "source": [
    "metrics.silhouette_score(inputData, model.labels_)"
   ]
  },
  {
   "cell_type": "code",
   "execution_count": 112,
   "metadata": {
    "scrolled": true
   },
   "outputs": [
    {
     "data": {
      "text/plain": [
       "<matplotlib.collections.PathCollection at 0x2a891a6aec8>"
      ]
     },
     "execution_count": 112,
     "metadata": {},
     "output_type": "execute_result"
    },
    {
     "data": {
      "image/png": "[encoded data removed]",
      "text/plain": [
       "<Figure size 432x288 with 1 Axes>"
      ]
     },
     "metadata": {
      "needs_background": "light"
     },
     "output_type": "display_data"
    }
   ],
   "source": [
    "plt.scatter(inputData[0], inputData[1],c=model.labels_)"
   ]
  },
  {
   "cell_type": "markdown",
   "metadata": {},
   "source": [
    "# Finding Number of Clusters"
   ]
  },
  {
   "cell_type": "code",
   "execution_count": 106,
   "metadata": {},
   "outputs": [],
   "source": [
    "cluster_range= range(1,20)\n",
    "error_list =[]\n",
    "for i in cluster_range:\n",
    "    model = KMeans(n_clusters=i)\n",
    "    model.fit(inputData)\n",
    "    res = model.inertia_\n",
    "    error_list.append(res)"
   ]
  },
  {
   "cell_type": "code",
   "execution_count": 107,
   "metadata": {},
   "outputs": [
    {
     "data": {
      "image/png": "[encoded data removed]",
      "text/plain": [
       "<Figure size 432x288 with 1 Axes>"
      ]
     },
     "metadata": {
      "needs_background": "light"
     },
     "output_type": "display_data"
    }
   ],
   "source": [
    "plt.plot(cluster_range, error_list, marker = \"o\", color = \"g\", markersize = 10)\n",
    "plt.xlabel(\"Cluster Range\")\n",
    "plt.ylabel(\"IntraCluster Sum\")\n",
    "plt.title(\"KMeans\")\n",
    "plt.show()"
   ]
  },
  {
   "cell_type": "code",
   "execution_count": null,
   "metadata": {},
   "outputs": [],
   "source": []
  }
 ],
 "metadata": {
  "kernelspec": {
   "display_name": "Python 3",
   "language": "python",
   "name": "python3"
  },
  "language_info": {
   "codemirror_mode": {
    "name": "ipython",
    "version": 3
   },
   "file_extension": ".py",
   "mimetype": "text/x-python",
   "name": "python",
   "nbconvert_exporter": "python",
   "pygments_lexer": "ipython3",
   "version": "3.7.6"
  }
 },
 "nbformat": 4,
 "nbformat_minor": 4
}
